{
 "cells": [
  {
   "cell_type": "code",
   "execution_count": null,
   "id": "250100db",
   "metadata": {},
   "outputs": [],
   "source": [
    "import numpy as np\n",
    "import matplotlib.pyplot as plt\n",
    "import random as rnd"
   ]
  },
  {
   "cell_type": "code",
   "execution_count": null,
   "id": "61164ae5",
   "metadata": {},
   "outputs": [],
   "source": [
    "def simulate_transmission(N, M, Psick, Pinfect):\n",
    "    classroom = np.zeros((M, N))\n",
    "\n",
    "    for i in range(M):\n",
    "        if rnd.random() < Psick:\n",
    "            classroom[0, i] = 1\n",
    "\n",
    "    for day in range(1, M):\n",
    "        previous_day = classroom[day - 1] \n",
    "\n",
    "        for i in range(N):\n",
    "            if previous_day[i] == 1:\n",
    "                if i > 0 and previous_day[i - 1] == 0 and np.random.random() < Pinfect:\n",
    "                    classroom[day, i - 1] = 1\n",
    "                if i < N - 1 and previous_day[i + 1] == 0 and np.random.random() < Pinfect:\n",
    "                    classroom[day, i + 1] = 1\n",
    "\n",
    "    return classroom"
   ]
  },
  {
   "cell_type": "code",
   "execution_count": null,
   "id": "0d86ee73",
   "metadata": {},
   "outputs": [],
   "source": [
    "M = 1000\n",
    "N = 1000\n",
    "\n",
    "result = simulate_transmission(M, N, 0.15, 0.647)\n",
    "\n",
    "plt.imshow(result, cmap='Purples')\n",
    "plt.colorbar(label='Health Status')\n",
    "plt.xlabel('Student')\n",
    "plt.ylabel('Day')\n",
    "plt.title('Full Flu Transmission Simulation')\n",
    "plt.show()"
   ]
  },
  {
   "cell_type": "code",
   "execution_count": null,
   "id": "a1d6f66f",
   "metadata": {
    "scrolled": true
   },
   "outputs": [],
   "source": [
    "for i in [0.3, 0.647, 0.8]:\n",
    "    result = simulate_transmission(N, M, Psick, i)\n",
    "    \n",
    "    percentage_sick = np.sum(result, axis=1) / N * 100\n",
    "    print(percentage_sick)\n",
    "        \n",
    "    plt.plot(range(M), percentage_sick, label=f'Pinfect={i}')\n",
    "    \n",
    "plt.xlabel('Time (Days)')\n",
    "plt.ylabel('% Students Sick')\n",
    "plt.title('Percentage Graphing')\n",
    "plt.legend(loc='lower right')\n",
    "plt.grid(True)\n",
    "plt.show()"
   ]
  },
  {
   "cell_type": "code",
   "execution_count": null,
   "id": "c9ff36b0",
   "metadata": {},
   "outputs": [],
   "source": []
  }
 ],
 "metadata": {
  "kernelspec": {
   "display_name": "Python 3 (ipykernel)",
   "language": "python",
   "name": "python3"
  },
  "language_info": {
   "codemirror_mode": {
    "name": "ipython",
    "version": 3
   },
   "file_extension": ".py",
   "mimetype": "text/x-python",
   "name": "python",
   "nbconvert_exporter": "python",
   "pygments_lexer": "ipython3",
   "version": "3.10.11"
  }
 },
 "nbformat": 4,
 "nbformat_minor": 5
}
