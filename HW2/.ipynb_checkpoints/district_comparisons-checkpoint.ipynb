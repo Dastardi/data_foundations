{
 "cells": [
  {
   "cell_type": "code",
   "execution_count": 1,
   "id": "2bd0b8ee",
   "metadata": {},
   "outputs": [],
   "source": [
    "import sqlite3\n",
    "import pandas as pd\n",
    "import matplotlib.pyplot as plt\n",
    "con = sqlite3.connect('HW2.db')"
   ]
  },
  {
   "cell_type": "code",
   "execution_count": 2,
   "id": "01953e0c",
   "metadata": {},
   "outputs": [],
   "source": [
    "district_names = {\n",
    "    'A1': 'Downtown',\n",
    "    'A15': 'Charlestown',\n",
    "    'A7': 'East\\nBoston',\n",
    "    'B2': 'Roxbury',\n",
    "    'B3': 'Mattapan',\n",
    "    'C6': 'South\\nBoston',\n",
    "    'C11': 'Dorchester',\n",
    "    'D4': 'South\\nEnd',\n",
    "    'D14': 'Brighton',\n",
    "    'E5': 'West\\nRoxbury',\n",
    "    'E13': 'Jamaica\\nPlain',\n",
    "    'E18': 'Hyde\\nPark'\n",
    "}"
   ]
  },
  {
   "cell_type": "code",
   "execution_count": 3,
   "id": "6eac7d7a",
   "metadata": {},
   "outputs": [],
   "source": [
    "query = \"SELECT DISTRICT, COUNT(*) AS Count_2018 FROM crime_2018 GROUP BY DISTRICT\"\n",
    "df = pd.read_sql_query(query, con)\n",
    "df.drop(0, axis=0, inplace=True)\n",
    "df['DISTRICT'] = df['DISTRICT'].replace(district_names)\n",
    "df['Average_Income'] = [66213,91067,71630,45730,63432,47200,77223,68656,57699,76968,65260,79424]\n",
    "df.sort_values('Average_Income', ascending=False, inplace=True)\n",
    "#df"
   ]
  },
  {
   "cell_type": "code",
   "execution_count": 4,
   "id": "9ded6525",
   "metadata": {},
   "outputs": [],
   "source": [
    "query = \"SELECT DISTRICT, COUNT(*) AS Count_2020 FROM crime_2020 GROUP BY DISTRICT\"\n",
    "df1 = pd.read_sql_query(query, con)\n",
    "df1.drop([0,13], axis=0, inplace=True)\n",
    "df1['DISTRICT'] = df1['DISTRICT'].replace(district_names)\n",
    "df1['Average_Income'] = [66213,91067,71630,45730,63432,47200,77223,68656,57699,76968,65260,79424]\n",
    "df1.sort_values('Average_Income', ascending=False, inplace=True)\n",
    "#df1"
   ]
  },
  {
   "cell_type": "code",
   "execution_count": 5,
   "id": "70580822",
   "metadata": {},
   "outputs": [],
   "source": [
    "query = \"SELECT DISTRICT, COUNT(*) AS Count_2022 FROM crime_2022 GROUP BY DISTRICT\"\n",
    "df2 = pd.read_sql_query(query, con)\n",
    "df2.drop([0,13], axis=0, inplace=True)\n",
    "df2['DISTRICT'] = df2['DISTRICT'].replace(district_names)\n",
    "df2['Average_Income'] = [66213,91067,71630,45730,63432,47200,77223,68656,57699,76968,65260,79424]\n",
    "df2.sort_values('Average_Income', ascending=False, inplace=True)\n",
    "#df2"
   ]
  },
  {
   "cell_type": "code",
   "execution_count": 6,
   "id": "96b998a8",
   "metadata": {},
   "outputs": [],
   "source": [
    "compare_18_20 = df.join(df1.Count_2020)\n",
    "compare_20_22 = df1.join(df2.Count_2022)\n",
    "compare_all = compare_18_20.join(df2.Count_2022)\n",
    "#compare_all"
   ]
  },
  {
   "cell_type": "code",
   "execution_count": 7,
   "id": "61d6732f",
   "metadata": {},
   "outputs": [],
   "source": [
    "compare_18_20['Difference'] = compare_18_20.Count_2020 - compare_18_20.Count_2018\n",
    "compare_18_20['Percentage_Change'] = (compare_18_20.Difference / compare_18_20.Count_2018) * 100\n",
    "#compare_18_20"
   ]
  },
  {
   "cell_type": "code",
   "execution_count": 8,
   "id": "075dd522",
   "metadata": {},
   "outputs": [],
   "source": [
    "compare_20_22['Difference'] = compare_20_22.Count_2022 - compare_20_22.Count_2020\n",
    "compare_20_22['Percentage_Change'] = (compare_20_22.Difference / compare_20_22.Count_2020) * 100\n",
    "#compare_20_22"
   ]
  },
  {
   "cell_type": "code",
   "execution_count": 9,
   "id": "e77c9e0f",
   "metadata": {},
   "outputs": [
    {
     "ename": "NameError",
     "evalue": "name 'sns' is not defined",
     "output_type": "error",
     "traceback": [
      "\u001b[0;31m---------------------------------------------------------------------------\u001b[0m",
      "\u001b[0;31mNameError\u001b[0m                                 Traceback (most recent call last)",
      "Cell \u001b[0;32mIn[9], line 2\u001b[0m\n\u001b[1;32m      1\u001b[0m plt\u001b[38;5;241m.\u001b[39mfigure(figsize\u001b[38;5;241m=\u001b[39m(\u001b[38;5;241m13\u001b[39m, \u001b[38;5;241m8\u001b[39m))\n\u001b[0;32m----> 2\u001b[0m \u001b[43msns\u001b[49m\u001b[38;5;241m.\u001b[39mbarplot(x\u001b[38;5;241m=\u001b[39mdf\u001b[38;5;241m.\u001b[39mDISTRICT, y\u001b[38;5;241m=\u001b[39mdf\u001b[38;5;241m.\u001b[39mCount_2018, palette\u001b[38;5;241m=\u001b[39m\u001b[38;5;124m'\u001b[39m\u001b[38;5;124mviridis\u001b[39m\u001b[38;5;124m'\u001b[39m)\n\u001b[1;32m      3\u001b[0m plt\u001b[38;5;241m.\u001b[39mtitle(\u001b[38;5;124m'\u001b[39m\u001b[38;5;124mBoston Crime Count by District (2018)\u001b[39m\u001b[38;5;124m'\u001b[39m)\n\u001b[1;32m      4\u001b[0m plt\u001b[38;5;241m.\u001b[39mxlabel(\u001b[38;5;124m'\u001b[39m\u001b[38;5;124mDistrict (Highest to Lowest Income)\u001b[39m\u001b[38;5;124m'\u001b[39m)\n",
      "\u001b[0;31mNameError\u001b[0m: name 'sns' is not defined"
     ]
    },
    {
     "data": {
      "text/plain": [
       "<Figure size 1300x800 with 0 Axes>"
      ]
     },
     "metadata": {},
     "output_type": "display_data"
    }
   ],
   "source": [
    "plt.figure(figsize=(13, 8))\n",
    "sns.barplot(x=df.DISTRICT, y=df.Count_2018, palette='viridis')\n",
    "plt.title('Boston Crime Count by District (2018)')\n",
    "plt.xlabel('District (Highest to Lowest Income)')\n",
    "plt.ylabel('Number of Crimes')\n",
    "plt.show()"
   ]
  },
  {
   "cell_type": "code",
   "execution_count": null,
   "id": "a5425098",
   "metadata": {},
   "outputs": [],
   "source": [
    "plt.figure(figsize=(13, 8))\n",
    "sns.barplot(x=df1.DISTRICT, y=df1.Count_2020, palette='viridis')\n",
    "plt.title('Boston Crime Count by District (2020)')\n",
    "plt.xlabel('District (Highest to Lowest Income)')\n",
    "plt.ylabel('Number of Crimes')\n",
    "plt.show()"
   ]
  },
  {
   "cell_type": "code",
   "execution_count": null,
   "id": "3cca1eb1",
   "metadata": {},
   "outputs": [],
   "source": [
    "plt.figure(figsize=(13, 8))\n",
    "sns.barplot(x=df2.DISTRICT, y=df2.Count_2022, palette='viridis')\n",
    "plt.title('Boston Crime Count by District (2022)')\n",
    "plt.xlabel('District (Highest to Lowest Income)')\n",
    "plt.ylabel('Number of Crimes')\n",
    "plt.show()"
   ]
  },
  {
   "cell_type": "code",
   "execution_count": null,
   "id": "80a4d843",
   "metadata": {},
   "outputs": [],
   "source": [
    "plt.figure(figsize=(13, 8))\n",
    "sns.barplot(x=compare_18_20.DISTRICT, y=compare_18_20.Percentage_Change, palette='plasma')\n",
    "plt.title('Boston Crime Rate Changes by District 2018-2020')\n",
    "plt.xlabel('District (Highest to Lowest Income)')\n",
    "plt.ylabel('Change in Rates (Percentage)')\n",
    "plt.show()"
   ]
  },
  {
   "cell_type": "code",
   "execution_count": null,
   "id": "f756c3d8",
   "metadata": {},
   "outputs": [],
   "source": [
    "plt.figure(figsize=(13, 8))\n",
    "sns.barplot(x=compare_20_22.DISTRICT, y=compare_20_22.Percentage_Change, palette='plasma')\n",
    "plt.title('Boston Crime Rate Changes by District 2020-2022')\n",
    "plt.xlabel('District (Highest to Lowest Income)')\n",
    "plt.ylabel('Change in Rates (Percentage)')\n",
    "plt.show()"
   ]
  },
  {
   "cell_type": "markdown",
   "id": "1738fcc7",
   "metadata": {},
   "source": [
    "# Average Annual Incomes\n",
    "- Downtown: 66,213\n",
    "- Charlestown: 91,067\n",
    "- East Boston: 71,630 \n",
    "- Roxbury: 45,730\n",
    "- Mattapan: 63,432\n",
    "- Dorchester: 47,200\n",
    "- South Boston: 77,223\n",
    "- Brighton: 68,656\n",
    "- South End: 57,699\n",
    "- Jamaica Plain: 76,968\n",
    "- Hyde Park: 65,260\n",
    "- West Roxbury: 79,424\n",
    "\n",
    "*Source: Boston Planning & Development Agency*"
   ]
  }
 ],
 "metadata": {
  "kernelspec": {
   "display_name": "Python 3 (ipykernel)",
   "language": "python",
   "name": "python3"
  },
  "language_info": {
   "codemirror_mode": {
    "name": "ipython",
    "version": 3
   },
   "file_extension": ".py",
   "mimetype": "text/x-python",
   "name": "python",
   "nbconvert_exporter": "python",
   "pygments_lexer": "ipython3",
   "version": "3.10.9"
  }
 },
 "nbformat": 4,
 "nbformat_minor": 5
}
